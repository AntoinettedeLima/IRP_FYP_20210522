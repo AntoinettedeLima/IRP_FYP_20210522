{
  "nbformat": 4,
  "nbformat_minor": 0,
  "metadata": {
    "colab": {
      "provenance": [],
      "authorship_tag": "ABX9TyPbYj9khPvbv569txUr80X0",
      "include_colab_link": true
    },
    "kernelspec": {
      "name": "python3",
      "display_name": "Python 3"
    },
    "language_info": {
      "name": "python"
    }
  },
  "cells": [
    {
      "cell_type": "markdown",
      "metadata": {
        "id": "view-in-github",
        "colab_type": "text"
      },
      "source": [
        "<a href=\"https://colab.research.google.com/github/AntoinettedeLima/IRP_FYP_20210522/blob/main/Wind_Data_collection_code.ipynb\" target=\"_parent\"><img src=\"https://colab.research.google.com/assets/colab-badge.svg\" alt=\"Open In Colab\"/></a>"
      ]
    },
    {
      "cell_type": "code",
      "execution_count": null,
      "metadata": {
        "id": "16bJZzYIxRgU"
      },
      "outputs": [],
      "source": [
        "// Define area of interest (update coordinates as needed)\n",
        "var geometry = ee.Geometry.Rectangle([-113.5, 44.5, -108.5, 49.5]);\n",
        "\n",
        "// Load ERA5 dataset for wind data\n",
        "var era5 = ee.ImageCollection(\"ECMWF/ERA5/DAILY\")\n",
        "              .filterBounds(geometry)\n",
        "              .filterDate('2015-04-11', '2024-12-31')\n",
        "              .select(['u_component_of_wind_10m', 'v_component_of_wind_10m']);\n",
        "\n",
        "// Function to calculate wind speed and direction\n",
        "var addWindSpeedDirection = function(image) {\n",
        "  var u = image.select('u_component_of_wind_10m');\n",
        "  var v = image.select('v_component_of_wind_10m');\n",
        "  var windSpeed = u.pow(2).add(v.pow(2)).sqrt().rename('wind_speed');\n",
        "  var windDirection = u.atan2(v).rename('wind_direction');\n",
        "  return image.addBands([windSpeed, windDirection]);\n",
        "};\n",
        "\n",
        "// Apply the wind speed and direction calculation to each image in the collection\n",
        "var windCollection = era5.map(addWindSpeedDirection);\n",
        "\n",
        "// Define the maximum number of images to export\n",
        "var maxExports = 1100;  // 1464 - 365 = 1100 images in total\n",
        "var exportCount = 0;\n",
        "\n",
        "// Retrieve collection size\n",
        "var windCollectionSize = windCollection.size().getInfo();\n",
        "print('Wind Collection Size:', windCollectionSize);\n",
        "\n",
        "// Set the start index and end index for exporting images\n",
        "var startIndex = 365;\n",
        "var endIndex = 1464;\n",
        "\n",
        "if (windCollectionSize > 0) {\n",
        "  // Retrieve collection as a list to access each image individually in smaller batches\n",
        "  var imageList = windCollection.toList(windCollectionSize);\n",
        "\n",
        "  // Loop through each image in the list and export in small batches, stopping at maxExports\n",
        "  var batchSize = 5;\n",
        "\n",
        "  for (var start = startIndex; start < endIndex && exportCount < maxExports; start += batchSize) {\n",
        "    for (var i = 0; i < batchSize && (start + i) < endIndex && exportCount < maxExports; i++) {\n",
        "      var image = ee.Image(imageList.get(start + i));\n",
        "      Export.image.toDrive({\n",
        "        image: image.select(['wind_speed', 'wind_direction']),\n",
        "        description: 'Exported_Wind_Image_' + (start + i),\n",
        "        scale: 1000,\n",
        "        region: geometry,\n",
        "        maxPixels: 1e9\n",
        "      });\n",
        "      exportCount++;  // Increment the count of exported images\n",
        "    }\n",
        "  }\n",
        "  print('Total wind images exported:', exportCount);\n",
        "} else {\n",
        "  print(\"No images found in the specified date range and parameters.\");\n",
        "}\n"
      ]
    }
  ]
}