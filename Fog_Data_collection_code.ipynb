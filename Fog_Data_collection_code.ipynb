{
  "nbformat": 4,
  "nbformat_minor": 0,
  "metadata": {
    "colab": {
      "provenance": [],
      "authorship_tag": "ABX9TyMfuwuLrfQdAvjUIEeWZL9h",
      "include_colab_link": true
    },
    "kernelspec": {
      "name": "python3",
      "display_name": "Python 3"
    },
    "language_info": {
      "name": "python"
    }
  },
  "cells": [
    {
      "cell_type": "markdown",
      "metadata": {
        "id": "view-in-github",
        "colab_type": "text"
      },
      "source": [
        "<a href=\"https://colab.research.google.com/github/AntoinettedeLima/IRP_FYP_20210522/blob/main/Fog_Data_collection_code.ipynb\" target=\"_parent\"><img src=\"https://colab.research.google.com/assets/colab-badge.svg\" alt=\"Open In Colab\"/></a>"
      ]
    },
    {
      "cell_type": "code",
      "execution_count": null,
      "metadata": {
        "id": "1uM_6KPt2hxN"
      },
      "outputs": [],
      "source": [
        "// Define area of interest (update coordinates as necessary)\n",
        "var geometry = ee.Geometry.Rectangle([-113.5, 44.5, -108.5, 49.5]);\n",
        "\n",
        "// Load Sentinel-2 dataset\n",
        "var sentinel2 = ee.ImageCollection('COPERNICUS/S2')\n",
        "                  .filterBounds(geometry)\n",
        "                  .filterDate('2015-06-01', '2024-12-31')\n",
        "                  .filter(ee.Filter.lt('CLOUDY_PIXEL_PERCENTAGE', 90))\n",
        "                  .select(['B4', 'B3', 'B8']);  // Red, Green, NIR\n",
        "\n",
        "// Load Landsat 8 Collection 2 Tier 1 dataset\n",
        "var landsat8 = ee.ImageCollection('LANDSAT/LC08/C02/T1_L2')\n",
        "                .filterBounds(geometry)\n",
        "                .filterDate('2013-04-11', '2024-12-31')\n",
        "                .filter(ee.Filter.lt('CLOUD_COVER', 90))\n",
        "                .select(['SR_B4', 'SR_B3', 'SR_B5']);  // Red, Green, NIR equivalent for Landsat 8\n",
        "\n",
        "// Merge the collections\n",
        "var combinedCollection = sentinel2.merge(landsat8);\n",
        "\n",
        "// Define the maximum number of images to export\n",
        "var maxExports = 1500;\n",
        "var exportCount = 0;\n",
        "\n",
        "// Retrieve collection size\n",
        "var collectionSize = combinedCollection.size().getInfo();\n",
        "print('Combined Collection Size:', collectionSize);\n",
        "\n",
        "// Adjust start index to continue exporting from a specific point if needed\n",
        "var startIndex = 820;\n",
        "\n",
        "if (collectionSize > 0) {\n",
        "  // Retrieve collection as a list to access each image individually in smaller batches\n",
        "  var imageList = combinedCollection.toList(collectionSize);\n",
        "\n",
        "  // Loop through each image in the list and export in small batches, stopping at maxExports\n",
        "  var batchSize = 5;\n",
        "\n",
        "  for (var start = startIndex; start < collectionSize && exportCount < maxExports; start += batchSize) {\n",
        "    for (var i = 0; i < batchSize && (start + i) < collectionSize && exportCount < maxExports; i++) {\n",
        "      var image = ee.Image(imageList.get(start + i));\n",
        "      Export.image.toDrive({\n",
        "        image: image,\n",
        "        description: 'Exported_Fog_Image_' + (start + i),\n",
        "        scale: 30,\n",
        "        region: geometry,\n",
        "        maxPixels: 1e9\n",
        "      });\n",
        "      exportCount++;  // Increment the count of exported images\n",
        "    }\n",
        "  }\n",
        "  print('Total images exported:', exportCount);\n",
        "} else {\n",
        "  print(\"No images found in the specified date range and parameters.\");\n",
        "}\n"
      ]
    }
  ]
}